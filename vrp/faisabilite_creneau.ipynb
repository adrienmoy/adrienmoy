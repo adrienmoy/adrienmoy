{
 "metadata": {
  "language_info": {
   "codemirror_mode": {
    "name": "ipython",
    "version": 3
   },
   "file_extension": ".py",
   "mimetype": "text/x-python",
   "name": "python",
   "nbconvert_exporter": "python",
   "pygments_lexer": "ipython3",
   "version": "3.8.5"
  },
  "orig_nbformat": 2,
  "kernelspec": {
   "name": "python385jvsc74a57bd031f2aee4e71d21fbe5cf8b01ff0e069b9275f58929596ceb00d14d90e3e16cd6",
   "display_name": "Python 3.8.5 64-bit"
  },
  "metadata": {
   "interpreter": {
    "hash": "31f2aee4e71d21fbe5cf8b01ff0e069b9275f58929596ceb00d14d90e3e16cd6"
   }
  }
 },
 "nbformat": 4,
 "nbformat_minor": 2,
 "cells": [
  {
   "cell_type": "code",
   "execution_count": 1,
   "metadata": {},
   "outputs": [],
   "source": [
    "import pandas as pd\n",
    "import numpy as np\n",
    "import random as rd"
   ]
  },
  {
   "source": [
    "zip_in_zone = [75001, 75002, 75003, 75004, 75005, 75006, 75007]\n",
    "nb_of_zips = len(zip_in_zone)\n",
    "days_planned = 30\n",
    "\n",
    "#DISTANCE MATRIX\n",
    "dist_matrix = np.zeros([nb_of_zips, nb_of_zips])\n",
    "dist_matrix[np.triu_indices(nb_of_zips, 1)] = [rd.randint(1,10) for i in range(int((nb_of_zips-1)*nb_of_zips*.5))]\n",
    "dist_matrix += dist_matrix.T\n",
    "\n",
    "available_timeslots = pd.DataFrame(np.array([[0 for zip in zip_in_zone] for i in range(days_planned)]), columns=zip_in_zone)\n",
    "\n",
    "print(dist_matrix)\n",
    "print(available_timeslots)"
   ],
   "cell_type": "code",
   "metadata": {},
   "execution_count": 5,
   "outputs": [
    {
     "output_type": "stream",
     "name": "stdout",
     "text": [
      "[[ 0.  2.  3.  6.  7.  4.  3.]\n [ 2.  0. 10.  8.  5.  7.  5.]\n [ 3. 10.  0.  6.  4.  8.  3.]\n [ 6.  8.  6.  0.  2.  2.  7.]\n [ 7.  5.  4.  2.  0.  3.  1.]\n [ 4.  7.  8.  2.  3.  0. 10.]\n [ 3.  5.  3.  7.  1. 10.  0.]]\n    75001  75002  75003  75004  75005  75006  75007\n0       0      0      0      0      0      0      0\n1       0      0      0      0      0      0      0\n2       0      0      0      0      0      0      0\n3       0      0      0      0      0      0      0\n4       0      0      0      0      0      0      0\n5       0      0      0      0      0      0      0\n6       0      0      0      0      0      0      0\n7       0      0      0      0      0      0      0\n8       0      0      0      0      0      0      0\n9       0      0      0      0      0      0      0\n10      0      0      0      0      0      0      0\n11      0      0      0      0      0      0      0\n12      0      0      0      0      0      0      0\n13      0      0      0      0      0      0      0\n14      0      0      0      0      0      0      0\n15      0      0      0      0      0      0      0\n16      0      0      0      0      0      0      0\n17      0      0      0      0      0      0      0\n18      0      0      0      0      0      0      0\n19      0      0      0      0      0      0      0\n20      0      0      0      0      0      0      0\n21      0      0      0      0      0      0      0\n22      0      0      0      0      0      0      0\n23      0      0      0      0      0      0      0\n24      0      0      0      0      0      0      0\n25      0      0      0      0      0      0      0\n26      0      0      0      0      0      0      0\n27      0      0      0      0      0      0      0\n28      0      0      0      0      0      0      0\n29      0      0      0      0      0      0      0\n"
     ]
    }
   ]
  },
  {
   "cell_type": "code",
   "execution_count": 3,
   "metadata": {},
   "outputs": [
    {
     "output_type": "stream",
     "name": "stdout",
     "text": [
      "    employee_id  previous_visit_postal_code  next_visit_postal_code\n0            97                         NaN                     NaN\n1            75                         NaN                     NaN\n2           146                     75012.0                     NaN\n3            96                         NaN                 31400.0\n4           212                         NaN                     NaN\n5           123                         NaN                     NaN\n6           193                         NaN                     NaN\n7           161                         NaN                     NaN\n8           233                         NaN                     NaN\n9           186                         NaN                     NaN\n10          145                     75015.0                 75013.0\n11          231                         NaN                     NaN\n12          226                         NaN                     NaN\n13          129                         NaN                     NaN\n"
     ]
    }
   ],
   "source": [
    "#UPDATE TIMESLOT AVAILABILITY\n",
    "\n",
    "#execute SQL query to get previous and next visit adress\n",
    "#...\n",
    "available_techs = pd.read_csv('../available_techs.csv')\n",
    "\n",
    "#add data of base point for each tech\n",
    "\n",
    "\n",
    "\n",
    "print(available_techs)\n",
    "\n"
   ]
  },
  {
   "cell_type": "code",
   "execution_count": null,
   "metadata": {},
   "outputs": [],
   "source": [
    "#CHECK DISTANCE BETWEEN CLIENT ADRESS AND EACH TECH IN\n",
    "\n"
   ]
  }
 ]
}