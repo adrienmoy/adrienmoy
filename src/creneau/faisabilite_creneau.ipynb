{
 "metadata": {
  "language_info": {
   "codemirror_mode": {
    "name": "ipython",
    "version": 3
   },
   "file_extension": ".py",
   "mimetype": "text/x-python",
   "name": "python",
   "nbconvert_exporter": "python",
   "pygments_lexer": "ipython3",
   "version": "3.8.5"
  },
  "orig_nbformat": 2,
  "kernelspec": {
   "name": "python385jvsc74a57bd031f2aee4e71d21fbe5cf8b01ff0e069b9275f58929596ceb00d14d90e3e16cd6",
   "display_name": "Python 3.8.5 64-bit"
  },
  "metadata": {
   "interpreter": {
    "hash": "31f2aee4e71d21fbe5cf8b01ff0e069b9275f58929596ceb00d14d90e3e16cd6"
   }
  }
 },
 "nbformat": 4,
 "nbformat_minor": 2,
 "cells": [
  {
   "cell_type": "code",
   "execution_count": 18,
   "metadata": {},
   "outputs": [],
   "source": [
    "import pandas as pd\n",
    "import numpy as np\n",
    "import random as rd\n",
    "import sqlite3\n",
    "import math"
   ]
  },
  {
   "source": [
    "# list of postal codes in zone\n",
    "zone = [75001, 75002, 75003, 75004, 75005, 75006, 75007, 75008, 75009, 75010, 75011, 75012, 75013, 75014, 75015]\n",
    "nb_of_zips = len(zone)\n",
    "\n",
    "#DISTANCE MATRIX\n",
    "dist_matrix = np.zeros([nb_of_zips, nb_of_zips])\n",
    "dist_matrix[np.triu_indices(nb_of_zips, 1)] = [rd.randint(1,10) for i in range(int((nb_of_zips-1)*nb_of_zips*.5))]\n",
    "dist_matrix += dist_matrix.T\n",
    "\n",
    "print(dist_matrix)\n",
    "\n",
    "# Matrice des disponibilités pour chaque code postal, qu'on peut update de manière asynchrone.\n",
    "days_planned = 14\n",
    "available_timeslots = pd.DataFrame(np.array([[0 for zip in zone] for i in range(days_planned)]), columns=zone)\n",
    "\n",
    "\n",
    "#UPDATE TIMESLOT AVAILABILITY\n",
    "\n",
    "def get_dist(zip, previous, next, dist_matrix=dist_matrix, zone=zone):\n",
    "    assert zip in zone, 'zip isnt in zone anyway'\n",
    "\n",
    "    if math.isnan(previous) or math.isnan(next):\n",
    "        return 1000000\n",
    "    else:\n",
    "        previous, next = int(previous), int(next)\n",
    "\n",
    "    if not ((previous in zone) and (next in zone)):\n",
    "        return 1000000\n",
    "\n",
    "    dist = dist_matrix[zone.index(zip), zone.index(previous)] + dist_matrix[zone.index(zip), zone.index(next)]\n",
    "    return dist\n",
    "\n",
    "def timeslot_availabilities(timeslot, zone=zone, dist_limit=10):\n",
    "    \"\"\" \n",
    "    EXECUTE SQL QUERY to get previous and next visit adress\n",
    "\n",
    "    connector = sqlite3.connect()\n",
    "    query_template = pd.read_sql_query('../query_template/previous_and_next_visit.sql', connector)\n",
    "    fill sql query template with timeslot\n",
    "    \n",
    "    execute sql query\n",
    "    available_techs = query.result\n",
    "    \"\"\"\n",
    "    available_techs = pd.read_csv('../../available_techs.csv')\n",
    "\n",
    "\n",
    "    timeslot_availability = []\n",
    "    for zip in zone:\n",
    "        for index, row in available_techs.iterrows():\n",
    "            dist = get_dist(zip, row['previous_visit_postal_code'], row['next_visit_postal_code'])\n",
    "            isAvailable = (dist <= dist_limit)\n",
    "            if isAvailable:\n",
    "                break\n",
    "\n",
    "        timeslot_availability.append(isAvailable*1)\n",
    "    return timeslot_availability\n",
    "\n",
    "timeslots = [0, '...', 'insert timeslot datestamps in this list']\n",
    "\n",
    "av = timeslot_availabilities(timeslots[0])\n",
    "print('availability for timeslot...', av)\n",
    "\n"
   ],
   "cell_type": "code",
   "metadata": {},
   "execution_count": 21,
   "outputs": [
    {
     "output_type": "stream",
     "name": "stdout",
     "text": [
      "[[ 0.  6.  4.  9.  9.  2.  8.  1.  5.  9.  6.  3.  7.  4. 10.]\n [ 6.  0. 10.  5.  7.  9.  3.  7.  9.  1.  8.  3.  4.  5.  5.]\n [ 4. 10.  0. 10.  4.  1.  9.  6. 10.  5. 10.  5.  9.  6.  5.]\n [ 9.  5. 10.  0.  8.  8.  1.  2. 10.  6.  2.  8.  4.  1.  4.]\n [ 9.  7.  4.  8.  0.  3.  5.  1. 10.  2.  6.  5.  4.  9. 10.]\n [ 2.  9.  1.  8.  3.  0.  1.  2.  7.  8.  8.  8. 10.  9.  6.]\n [ 8.  3.  9.  1.  5.  1.  0.  9.  3.  4.  9.  5.  6.  1.  6.]\n [ 1.  7.  6.  2.  1.  2.  9.  0.  4.  7.  4. 10.  8.  7.  9.]\n [ 5.  9. 10. 10. 10.  7.  3.  4.  0.  7.  5.  6.  5. 10.  5.]\n [ 9.  1.  5.  6.  2.  8.  4.  7.  7.  0.  1.  7.  7.  2.  6.]\n [ 6.  8. 10.  2.  6.  8.  9.  4.  5.  1.  0.  4. 10.  4.  2.]\n [ 3.  3.  5.  8.  5.  8.  5. 10.  6.  7.  4.  0.  9.  1.  8.]\n [ 7.  4.  9.  4.  4. 10.  6.  8.  5.  7. 10.  9.  0.  9.  4.]\n [ 4.  5.  6.  1.  9.  9.  1.  7. 10.  2.  4.  1.  9.  0.  2.]\n [10.  5.  5.  4. 10.  6.  6.  9.  5.  6.  2.  8.  4.  2.  0.]]\navailability for timeslot... [0, 1, 0, 1, 0, 0, 0, 0, 1, 0, 0, 0, 1, 0, 1]\n"
     ]
    }
   ]
  }
 ]
}